{
 "cells": [
  {
   "cell_type": "markdown",
   "metadata": {},
   "source": [
    "\n",
    "# <p style=\"text-align: center;\">MIS 382N: ADVANCED PREDICTIVE MODELING - MSBA</p>\n",
    "# <p style=\"text-align: center;\">Assignment 1</p>\n",
    "## <p style=\"text-align: center;\">Total points: 100</p>\n",
    "## <p style=\"text-align: center;\">Due: Tuesday, September 17 submitted via Canvas by 11:59 pm</p>\n",
    "\n",
    "Your homework should be written in a **Jupyter notebook**. You may work in groups of two if you wish. Your partner needs to be from the same section. Only one student per team needs to submit the assignment on Canvas.  But be sure to include name and UTEID for both students.  Homework groups will be created and managed through Canvas, so please do not arbitrarily change your homework group. If you do change, let the TA know. \n",
    "\n",
    "Also, please make sure your code runs and the graphics (and anything else) are displayed in your notebook before submitting. (%matplotlib inline)"
   ]
  },
  {
   "cell_type": "markdown",
   "metadata": {},
   "source": [
    "## Gabriel James\n",
    "### GDJ337"
   ]
  },
  {
   "cell_type": "markdown",
   "metadata": {},
   "source": [
    "# Question 1: Challenges in Data Science (10 pts)\n",
    "\n",
    "Refer to the Domino guide under Modules --> Additional Resources\n",
    "\n",
    "Section 2 describes 8 Challenges. You may have personally encountered or heard of somebody else who encountered some of these challenge. If so,  please write 1-2 paragraphs on what situation was encountered and how it mapped into one the mentioned challenges. If not, think of a hypothetical case and do the same exercise. \n",
    "\n",
    "\n",
    "## Answer\n",
    "\n",
    "\n"
   ]
  },
  {
   "cell_type": "markdown",
   "metadata": {},
   "source": [
    "   When I was working as a data analyst at my most recent company, which dealt in single family rental real estate, I was tasked with providing analytics assistance to our VP of customer service, who was trying to improve resident Move In Success (MIS).  MIS was a binary variable (success or failure) that depended on the number of work orders a resident submitted in the first 30 days after move in and on the total repair cost of those work orders.  The assumption was that a resident who had a successful MIS was more likely to renew their lease later.  I was tasked with creating visualizations and crosstabs that would allow our resident support teams to address at risk properties (by consolidating work orders or even by asking residents not to submit work orders until after 30 days of move in (not very ethical)).\n",
    "\n",
    "   We had dedicated multiple analysts and entire teams of people to addressing this problem, but no one stopped to consider if Move In Success actually influenced residents' willingness to renew (a chi-square test showed there was no evidence of a relationship between the two).  I believe this falls into \"Solve the Wrong Problem.\"  We had dedicated company resources toward a metric that, in reality, had little to no bearing on the company's success and even did wrong by our residents."
   ]
  },
  {
   "cell_type": "markdown",
   "metadata": {},
   "source": [
    "# Question 2: MLE Estimate (5+10+10 points)\n",
    "\n",
    "Consider a coin tossing experiment where a biased coin is tossed repeatedly for $n$ times with independence in successive tosses. \n",
    "If we record the outcome of each toss as $X_{i}$, for $i \\in \\{1,2,3,....,n\\}$ as follows\n",
    "\n",
    "$  \n",
    "X_{i} = \n",
    "     \\begin{cases}\n",
    "       \\text{1,} &\\quad\\text{if $i^{th}$ toss results in $Heads$,}\\\\\n",
    "       \\text{0,} &\\quad\\text{otherwise.} \\\\ \n",
    "     \\end{cases}\n",
    "$\n",
    "\n",
    "then $X_{1}, X_{2}, .... X_{n}$ will be a sequence of $0$'s and $1$'s. Assume that for this coin $P(Heads) = p$, which of course is not known to the experimenter. \n",
    "\n",
    "1. The log-likelihood function of the observations, as discussed in the class, denotes the probability of occurrence of the observations. Write the log-likelihood function for the set of observations $X_{1}, X_{2}, .... X_{n}$. \n",
    "\n",
    "2. Compute an MLE estimate of $p$.\n",
    "\n",
    "3. Check if the obtained estimate is unbiased.\n"
   ]
  },
  {
   "cell_type": "markdown",
   "metadata": {},
   "source": [
    "![title](IMG_3531.jpg)"
   ]
  },
  {
   "cell_type": "markdown",
   "metadata": {},
   "source": [
    "## Answer\n",
    "\n"
   ]
  },
  {
   "cell_type": "markdown",
   "metadata": {},
   "source": [
    "# Question 3: Multiple Linear Regression in Python (30 pts)\n",
    "\n",
    "Use the following code to import the California housing prices dataset and linear models in python. The dataset is taken from https://www.kaggle.com/camnugent/california-housing-prices/version/1. I have removed the categorical variables and rows with missing variables to make it easier to run the models. \n"
   ]
  },
  {
   "cell_type": "code",
   "execution_count": 2,
   "metadata": {},
   "outputs": [],
   "source": [
    "from sklearn import linear_model\n",
    "from sklearn.metrics import mean_absolute_error\n",
    "from sklearn.model_selection import train_test_split\n",
    "import numpy as np\n",
    "import pandas as pd\n",
    "pd.options.mode.chained_assignment = None\n",
    "\n",
    "\n",
    "train_df = pd.read_csv(\"reduced_data.csv\")\n",
    "X = train_df.drop(['median_house_value'],axis=1)\n",
    "Y = train_df['median_house_value']"
   ]
  },
  {
   "cell_type": "markdown",
   "metadata": {},
   "source": [
    "a. (2 pts) Print the shape (number of rows and columns) of the feature matrix X, and print the first 5 rows.\n",
    "\n",
    "b.  (6 pts) Using ordinary least squares, fit a multiple linear regression (MLR) on all the feature variables using the entire dataset. Report the regression coefficient of each input feature and evaluate the model using mean absolute error (MAE).  Example of ordinary least squares in Python is shown in Section 1.1.1 of http://scikit-learn.org/stable/modules/linear_model.html.\n",
    "\n",
    "c.  (6 pts) Split the data into a training set and a test set, using the [train_test_split](https://scikit-learn.org/stable/modules/generated/sklearn.model_selection.train_test_split.html) with test_size = 0.30 and random_state = 11. Fit an MLR using the training set.  Evaluate the trained model using the training set and the test set, respectively.  Compare the two MAE values thus obtained.\n",
    "\n",
    "d.  (5 pts) Calculate the pearson correlation matrix of the independent variables in the training set (you can use [this](https://pandas.pydata.org/pandas-docs/stable/reference/api/pandas.DataFrame.corr.html)). Report the variables which have magnitude of correlation greater than 0.9 w.r.t the variable 'households'. \n",
    "\n",
    "e.  (6 pts) Add the following independent variables to both train and test sets:\n",
    "1. average_bedrooms = total_bedrooms/households\n",
    "2. average_rooms = total_rooms/households\n",
    "3. average_population = total_rooms/households\n",
    "\n",
    "Recalculate the correlation matrix. What do you observe about the correlation values of the above new variables?\n",
    "\n",
    "f. (5 pts) Fit an MLR on the new train data (with additional independent variables) and report the MAE on the new train and test sets."
   ]
  },
  {
   "cell_type": "markdown",
   "metadata": {},
   "source": [
    "## Answer"
   ]
  },
  {
   "cell_type": "markdown",
   "metadata": {},
   "source": [
    "## (a)"
   ]
  },
  {
   "cell_type": "code",
   "execution_count": 3,
   "metadata": {},
   "outputs": [
    {
     "name": "stdout",
     "output_type": "stream",
     "text": [
      "(20433, 8)\n"
     ]
    },
    {
     "data": {
      "text/plain": [
       "pandas.core.frame.DataFrame"
      ]
     },
     "execution_count": 3,
     "metadata": {},
     "output_type": "execute_result"
    }
   ],
   "source": [
    "print(X.shape)\n",
    "X.head()"
   ]
  },
  {
   "cell_type": "markdown",
   "metadata": {},
   "source": [
    "## (b)"
   ]
  },
  {
   "cell_type": "code",
   "execution_count": 3,
   "metadata": {},
   "outputs": [
    {
     "name": "stdout",
     "output_type": "stream",
     "text": [
      "[-4.27301205e+04 -4.25097369e+04  1.15790031e+03 -8.24972507e+00\n",
      "  1.13820707e+02 -3.83855780e+01  4.77013513e+01  4.02975217e+04]\n",
      "\n",
      "MAE:  50799.6307289529\n"
     ]
    }
   ],
   "source": [
    "b = linear_model.LinearRegression()\n",
    "\n",
    "print(b.fit(X,Y).coef_)\n",
    "\n",
    "b.fit(X, Y)\n",
    "Y_pred = b.predict(X)\n",
    "print()\n",
    "print(\"MAE: \", mean_absolute_error(Y, Y_pred))\n"
   ]
  },
  {
   "cell_type": "markdown",
   "metadata": {},
   "source": [
    "## (c)"
   ]
  },
  {
   "cell_type": "code",
   "execution_count": 4,
   "metadata": {},
   "outputs": [
    {
     "name": "stdout",
     "output_type": "stream",
     "text": [
      "Train MAE:  50749.10314465295\n",
      "Test MAE:  50916.74299435109\n"
     ]
    }
   ],
   "source": [
    "X_train, X_test, Y_train, Y_test = train_test_split(X, Y, test_size = 0.3, random_state = 11)\n",
    "\n",
    "lm = linear_model.LinearRegression().fit(X_train, Y_train)\n",
    "lm_pred_train = lm.predict(X_train)\n",
    "print(\"Train MAE: \", mean_absolute_error(Y_train, lm_pred_train))\n",
    "\n",
    "lm_pred_test = lm.predict(X_test)\n",
    "print(\"Test MAE: \", mean_absolute_error(Y_test, lm_pred_test))\n",
    "\n",
    "\n",
    "\n"
   ]
  },
  {
   "cell_type": "markdown",
   "metadata": {},
   "source": [
    "The Train MAE is slightly lower than Test MAE.  This is to be expected, since the model learned on the training dataset.\n",
    "\n",
    "The Train and Test MAE are fairly close, so it doesn't seem that the model is overfit."
   ]
  },
  {
   "cell_type": "markdown",
   "metadata": {},
   "source": [
    "## (d)"
   ]
  },
  {
   "cell_type": "code",
   "execution_count": 5,
   "metadata": {},
   "outputs": [
    {
     "data": {
      "text/plain": [
       "array(['total_rooms', 'total_bedrooms', 'population', 'households'],\n",
       "      dtype=object)"
      ]
     },
     "execution_count": 5,
     "metadata": {},
     "output_type": "execute_result"
    }
   ],
   "source": [
    "train_df.corr()['households'][abs(train_df.corr()['households'])>.9].index.values"
   ]
  },
  {
   "cell_type": "markdown",
   "metadata": {},
   "source": [
    "Independent variables having correlation greater than 0.9 w.r.t 'households': \n",
    "\n"
   ]
  },
  {
   "cell_type": "markdown",
   "metadata": {},
   "source": [
    "total_rooms,\n",
    "total_bedrooms,\n",
    "population,\n",
    "households"
   ]
  },
  {
   "cell_type": "markdown",
   "metadata": {},
   "source": [
    "## (e)"
   ]
  },
  {
   "cell_type": "code",
   "execution_count": 6,
   "metadata": {},
   "outputs": [
    {
     "data": {
      "text/html": [
       "<div>\n",
       "<style scoped>\n",
       "    .dataframe tbody tr th:only-of-type {\n",
       "        vertical-align: middle;\n",
       "    }\n",
       "\n",
       "    .dataframe tbody tr th {\n",
       "        vertical-align: top;\n",
       "    }\n",
       "\n",
       "    .dataframe thead th {\n",
       "        text-align: right;\n",
       "    }\n",
       "</style>\n",
       "<table border=\"1\" class=\"dataframe\">\n",
       "  <thead>\n",
       "    <tr style=\"text-align: right;\">\n",
       "      <th></th>\n",
       "      <th>longitude</th>\n",
       "      <th>latitude</th>\n",
       "      <th>housing_median_age</th>\n",
       "      <th>total_rooms</th>\n",
       "      <th>total_bedrooms</th>\n",
       "      <th>population</th>\n",
       "      <th>households</th>\n",
       "      <th>median_income</th>\n",
       "      <th>median_house_value</th>\n",
       "      <th>average_bedrooms</th>\n",
       "      <th>average_rooms</th>\n",
       "      <th>average_population</th>\n",
       "    </tr>\n",
       "  </thead>\n",
       "  <tbody>\n",
       "    <tr>\n",
       "      <th>longitude</th>\n",
       "      <td>1.000000</td>\n",
       "      <td>-0.924616</td>\n",
       "      <td>-0.109357</td>\n",
       "      <td>0.045480</td>\n",
       "      <td>0.069608</td>\n",
       "      <td>0.100270</td>\n",
       "      <td>0.056513</td>\n",
       "      <td>-0.015550</td>\n",
       "      <td>-0.045398</td>\n",
       "      <td>0.013402</td>\n",
       "      <td>-0.027307</td>\n",
       "      <td>0.002304</td>\n",
       "    </tr>\n",
       "    <tr>\n",
       "      <th>latitude</th>\n",
       "      <td>-0.924616</td>\n",
       "      <td>1.000000</td>\n",
       "      <td>0.011899</td>\n",
       "      <td>-0.036667</td>\n",
       "      <td>-0.066983</td>\n",
       "      <td>-0.108997</td>\n",
       "      <td>-0.071774</td>\n",
       "      <td>-0.079626</td>\n",
       "      <td>-0.144638</td>\n",
       "      <td>0.070025</td>\n",
       "      <td>0.106423</td>\n",
       "      <td>0.002522</td>\n",
       "    </tr>\n",
       "    <tr>\n",
       "      <th>housing_median_age</th>\n",
       "      <td>-0.109357</td>\n",
       "      <td>0.011899</td>\n",
       "      <td>1.000000</td>\n",
       "      <td>-0.360628</td>\n",
       "      <td>-0.320451</td>\n",
       "      <td>-0.295787</td>\n",
       "      <td>-0.302768</td>\n",
       "      <td>-0.118278</td>\n",
       "      <td>0.106432</td>\n",
       "      <td>-0.077918</td>\n",
       "      <td>-0.153031</td>\n",
       "      <td>0.013258</td>\n",
       "    </tr>\n",
       "    <tr>\n",
       "      <th>total_rooms</th>\n",
       "      <td>0.045480</td>\n",
       "      <td>-0.036667</td>\n",
       "      <td>-0.360628</td>\n",
       "      <td>1.000000</td>\n",
       "      <td>0.930380</td>\n",
       "      <td>0.857281</td>\n",
       "      <td>0.918992</td>\n",
       "      <td>0.197882</td>\n",
       "      <td>0.133294</td>\n",
       "      <td>0.029373</td>\n",
       "      <td>0.133482</td>\n",
       "      <td>-0.024596</td>\n",
       "    </tr>\n",
       "    <tr>\n",
       "      <th>total_bedrooms</th>\n",
       "      <td>0.069608</td>\n",
       "      <td>-0.066983</td>\n",
       "      <td>-0.320451</td>\n",
       "      <td>0.930380</td>\n",
       "      <td>1.000000</td>\n",
       "      <td>0.877747</td>\n",
       "      <td>0.979728</td>\n",
       "      <td>-0.007723</td>\n",
       "      <td>0.049686</td>\n",
       "      <td>0.045887</td>\n",
       "      <td>0.001538</td>\n",
       "      <td>-0.028355</td>\n",
       "    </tr>\n",
       "    <tr>\n",
       "      <th>population</th>\n",
       "      <td>0.100270</td>\n",
       "      <td>-0.108997</td>\n",
       "      <td>-0.295787</td>\n",
       "      <td>0.857281</td>\n",
       "      <td>0.877747</td>\n",
       "      <td>1.000000</td>\n",
       "      <td>0.907186</td>\n",
       "      <td>0.005087</td>\n",
       "      <td>-0.025300</td>\n",
       "      <td>-0.066510</td>\n",
       "      <td>-0.071898</td>\n",
       "      <td>0.070062</td>\n",
       "    </tr>\n",
       "    <tr>\n",
       "      <th>households</th>\n",
       "      <td>0.056513</td>\n",
       "      <td>-0.071774</td>\n",
       "      <td>-0.302768</td>\n",
       "      <td>0.918992</td>\n",
       "      <td>0.979728</td>\n",
       "      <td>0.907186</td>\n",
       "      <td>1.000000</td>\n",
       "      <td>0.013434</td>\n",
       "      <td>0.064894</td>\n",
       "      <td>-0.055158</td>\n",
       "      <td>-0.080165</td>\n",
       "      <td>-0.027336</td>\n",
       "    </tr>\n",
       "    <tr>\n",
       "      <th>median_income</th>\n",
       "      <td>-0.015550</td>\n",
       "      <td>-0.079626</td>\n",
       "      <td>-0.118278</td>\n",
       "      <td>0.197882</td>\n",
       "      <td>-0.007723</td>\n",
       "      <td>0.005087</td>\n",
       "      <td>0.013434</td>\n",
       "      <td>1.000000</td>\n",
       "      <td>0.688355</td>\n",
       "      <td>-0.062299</td>\n",
       "      <td>0.325307</td>\n",
       "      <td>0.018894</td>\n",
       "    </tr>\n",
       "    <tr>\n",
       "      <th>median_house_value</th>\n",
       "      <td>-0.045398</td>\n",
       "      <td>-0.144638</td>\n",
       "      <td>0.106432</td>\n",
       "      <td>0.133294</td>\n",
       "      <td>0.049686</td>\n",
       "      <td>-0.025300</td>\n",
       "      <td>0.064894</td>\n",
       "      <td>0.688355</td>\n",
       "      <td>1.000000</td>\n",
       "      <td>-0.046739</td>\n",
       "      <td>0.151344</td>\n",
       "      <td>-0.023639</td>\n",
       "    </tr>\n",
       "    <tr>\n",
       "      <th>average_bedrooms</th>\n",
       "      <td>0.013402</td>\n",
       "      <td>0.070025</td>\n",
       "      <td>-0.077918</td>\n",
       "      <td>0.029373</td>\n",
       "      <td>0.045887</td>\n",
       "      <td>-0.066510</td>\n",
       "      <td>-0.055158</td>\n",
       "      <td>-0.062299</td>\n",
       "      <td>-0.046739</td>\n",
       "      <td>1.000000</td>\n",
       "      <td>0.848616</td>\n",
       "      <td>-0.006179</td>\n",
       "    </tr>\n",
       "    <tr>\n",
       "      <th>average_rooms</th>\n",
       "      <td>-0.027307</td>\n",
       "      <td>0.106423</td>\n",
       "      <td>-0.153031</td>\n",
       "      <td>0.133482</td>\n",
       "      <td>0.001538</td>\n",
       "      <td>-0.071898</td>\n",
       "      <td>-0.080165</td>\n",
       "      <td>0.325307</td>\n",
       "      <td>0.151344</td>\n",
       "      <td>0.848616</td>\n",
       "      <td>1.000000</td>\n",
       "      <td>-0.004873</td>\n",
       "    </tr>\n",
       "    <tr>\n",
       "      <th>average_population</th>\n",
       "      <td>0.002304</td>\n",
       "      <td>0.002522</td>\n",
       "      <td>0.013258</td>\n",
       "      <td>-0.024596</td>\n",
       "      <td>-0.028355</td>\n",
       "      <td>0.070062</td>\n",
       "      <td>-0.027336</td>\n",
       "      <td>0.018894</td>\n",
       "      <td>-0.023639</td>\n",
       "      <td>-0.006179</td>\n",
       "      <td>-0.004873</td>\n",
       "      <td>1.000000</td>\n",
       "    </tr>\n",
       "  </tbody>\n",
       "</table>\n",
       "</div>"
      ],
      "text/plain": [
       "                    longitude  latitude  housing_median_age  total_rooms  \\\n",
       "longitude            1.000000 -0.924616           -0.109357     0.045480   \n",
       "latitude            -0.924616  1.000000            0.011899    -0.036667   \n",
       "housing_median_age  -0.109357  0.011899            1.000000    -0.360628   \n",
       "total_rooms          0.045480 -0.036667           -0.360628     1.000000   \n",
       "total_bedrooms       0.069608 -0.066983           -0.320451     0.930380   \n",
       "population           0.100270 -0.108997           -0.295787     0.857281   \n",
       "households           0.056513 -0.071774           -0.302768     0.918992   \n",
       "median_income       -0.015550 -0.079626           -0.118278     0.197882   \n",
       "median_house_value  -0.045398 -0.144638            0.106432     0.133294   \n",
       "average_bedrooms     0.013402  0.070025           -0.077918     0.029373   \n",
       "average_rooms       -0.027307  0.106423           -0.153031     0.133482   \n",
       "average_population   0.002304  0.002522            0.013258    -0.024596   \n",
       "\n",
       "                    total_bedrooms  population  households  median_income  \\\n",
       "longitude                 0.069608    0.100270    0.056513      -0.015550   \n",
       "latitude                 -0.066983   -0.108997   -0.071774      -0.079626   \n",
       "housing_median_age       -0.320451   -0.295787   -0.302768      -0.118278   \n",
       "total_rooms               0.930380    0.857281    0.918992       0.197882   \n",
       "total_bedrooms            1.000000    0.877747    0.979728      -0.007723   \n",
       "population                0.877747    1.000000    0.907186       0.005087   \n",
       "households                0.979728    0.907186    1.000000       0.013434   \n",
       "median_income            -0.007723    0.005087    0.013434       1.000000   \n",
       "median_house_value        0.049686   -0.025300    0.064894       0.688355   \n",
       "average_bedrooms          0.045887   -0.066510   -0.055158      -0.062299   \n",
       "average_rooms             0.001538   -0.071898   -0.080165       0.325307   \n",
       "average_population       -0.028355    0.070062   -0.027336       0.018894   \n",
       "\n",
       "                    median_house_value  average_bedrooms  average_rooms  \\\n",
       "longitude                    -0.045398          0.013402      -0.027307   \n",
       "latitude                     -0.144638          0.070025       0.106423   \n",
       "housing_median_age            0.106432         -0.077918      -0.153031   \n",
       "total_rooms                   0.133294          0.029373       0.133482   \n",
       "total_bedrooms                0.049686          0.045887       0.001538   \n",
       "population                   -0.025300         -0.066510      -0.071898   \n",
       "households                    0.064894         -0.055158      -0.080165   \n",
       "median_income                 0.688355         -0.062299       0.325307   \n",
       "median_house_value            1.000000         -0.046739       0.151344   \n",
       "average_bedrooms             -0.046739          1.000000       0.848616   \n",
       "average_rooms                 0.151344          0.848616       1.000000   \n",
       "average_population           -0.023639         -0.006179      -0.004873   \n",
       "\n",
       "                    average_population  \n",
       "longitude                     0.002304  \n",
       "latitude                      0.002522  \n",
       "housing_median_age            0.013258  \n",
       "total_rooms                  -0.024596  \n",
       "total_bedrooms               -0.028355  \n",
       "population                    0.070062  \n",
       "households                   -0.027336  \n",
       "median_income                 0.018894  \n",
       "median_house_value           -0.023639  \n",
       "average_bedrooms             -0.006179  \n",
       "average_rooms                -0.004873  \n",
       "average_population            1.000000  "
      ]
     },
     "execution_count": 6,
     "metadata": {},
     "output_type": "execute_result"
    }
   ],
   "source": [
    "#I believe there is a type in the instructions of e\n",
    "#I have set average population = population / households\n",
    "\n",
    "train_df['average_bedrooms'] = train_df['total_bedrooms']/train_df['households']\n",
    "train_df['average_rooms'] = train_df['total_rooms']/train_df['households']\n",
    "train_df['average_population'] = train_df['population']/train_df['households']\n",
    "\n",
    "train_df.corr()\n",
    "#average_bedrooms is highly correlated with average_rooms"
   ]
  },
  {
   "cell_type": "markdown",
   "metadata": {},
   "source": [
    "Observation: "
   ]
  },
  {
   "cell_type": "markdown",
   "metadata": {},
   "source": [
    "average_bedrooms is highly correlated (0.8486) with average_rooms, but average_population does not seem to be correlated with either average_bedrooms or average_population."
   ]
  },
  {
   "cell_type": "markdown",
   "metadata": {},
   "source": [
    "## (f)"
   ]
  },
  {
   "cell_type": "code",
   "execution_count": 7,
   "metadata": {},
   "outputs": [
    {
     "name": "stdout",
     "output_type": "stream",
     "text": [
      "Train MAE:  50474.268791457886\n",
      "Test MAE:  50783.974603927876\n"
     ]
    }
   ],
   "source": [
    "X = train_df.drop(['median_house_value'],axis=1)\n",
    "Y = train_df['median_house_value']\n",
    "\n",
    "X_train, X_test, Y_train, Y_test = train_test_split(X, Y, test_size = 0.3, random_state = 11)\n",
    "\n",
    "lm = linear_model.LinearRegression().fit(X_train, Y_train)\n",
    "lm_pred_train = lm.predict(X_train)\n",
    "print(\"Train MAE: \", mean_absolute_error(Y_train, lm_pred_train))\n",
    "\n",
    "lm_pred_test = lm.predict(X_test)\n",
    "print(\"Test MAE: \", mean_absolute_error(Y_test, lm_pred_test))"
   ]
  },
  {
   "cell_type": "markdown",
   "metadata": {},
   "source": [
    "# Question 4: Ridge and Lasso Regression (30 points)\n"
   ]
  },
  {
   "cell_type": "markdown",
   "metadata": {},
   "source": [
    "Using the same data from before, in this question you will explore the application of Lasso and Ridge regression using sklearn package in Python. Use the same train and test data with additional augmented columns from before. Scale the data so that each of the dependent variables have zero mean and unit variance. You can use the [sklearn.preprocessing.scale](https://scikit-learn.org/stable/modules/generated/sklearn.preprocessing.scale.html) function for this."
   ]
  },
  {
   "cell_type": "code",
   "execution_count": 83,
   "metadata": {},
   "outputs": [],
   "source": [
    "from sklearn.linear_model import LinearRegression, Lasso, Ridge, RidgeCV, LassoCV\n",
    "from sklearn.model_selection import GridSearchCV\n",
    "from sklearn import preprocessing\n",
    "import numpy as np\n",
    "\n",
    "X = train_df.drop(['median_house_value'], axis=1)\n",
    "Y = train_df['median_house_value']\n",
    "\n",
    "\n",
    "X_tr, X_te, Y_tr, Y_te = train_test_split(X, Y, test_size = 0.3, random_state = 11)\n",
    "\n",
    "scaler = preprocessing.StandardScaler().fit(X_tr)\n",
    "scaler.transform(X_tr)\n",
    "scaler.transform(X_te)\n",
    "\n",
    "alphas = 10**np.linspace(10,-2,100)*0.5"
   ]
  },
  {
   "cell_type": "markdown",
   "metadata": {},
   "source": [
    "1) Use sklearn.linear_model.Lasso and sklearn.linear_model.Ridge classes to do a [5-fold cross validation](http://scikit-learn.org/stable/auto_examples/exercises/plot_cv_diabetes.html#example-exercises-plot-cv-diabetes-py) using sklearn's [KFold](http://scikit-learn.org/stable/modules/generated/sklearn.cross_validation.KFold.html). For the sweep of the regularization parameter, we will look at a grid of values ranging from $\\lambda = 10^{10}$ to $\\lambda = 10^{-2}$. In Python, you can consider this range of values as follows:\n",
    "\n",
    "      import numpy as np\n",
    "\n",
    "      alphas =  10**np.linspace(10,-2,100)*0.5\n",
    "\n",
    "  Report the best chosen $\\lambda$ based on cross validation. The cross validation should happen on your training data using  average MAE as the scoring metric. (8pts)\n",
    "\n",
    "2) Run ridge and lasso for all of the alphas specified above (on training data), and plot the coefficients learned for each of them - there should be one plot each for lasso and ridge, so a total of two plots; the plots for different features for a method should be on the same plot. What do you qualitatively observe when value of the regularization parameter is changed? (7pts)\n",
    "\n",
    "3) Run least squares regression, ridge, and lasso on the training data. For ridge and lasso, use only the best regularization parameter. Report the prediction error (MAE) on the test data for each. (5pts)\n",
    "\n",
    "4) Run lasso again with cross validation using [sklearn.linear_model.LassoCV](http://scikit-learn.org/stable/modules/generated/sklearn.linear_model.LassoCV.html). Set the cross validation parameters as follows:\n",
    "\n",
    "    LassoCV(alphas=None, cv=10, max_iter=10000)\n",
    "\n",
    "Report the best $\\lambda$ based on cross validation. Run lasso on the training data using the best $\\lambda$ and report the coefficeints for all variables. (5pts)\n",
    "\n",
    "5) Why did we have to scale the data before regularization? (5pts)\n",
    "\n",
    "\n",
    "## Answer\n",
    "\n"
   ]
  },
  {
   "cell_type": "markdown",
   "metadata": {},
   "source": [
    "## 1"
   ]
  },
  {
   "cell_type": "markdown",
   "metadata": {},
   "source": [
    "I was having trouble using the KFold function.  When I used the scale function on the entire feature set, it ran correctly, but when I used StandardScaler on the entire or training feature set, I received an error I couldn't solve.\n",
    "\n",
    "I used GridSearchCV instead to circumvent this."
   ]
  },
  {
   "cell_type": "code",
   "execution_count": null,
   "metadata": {},
   "outputs": [],
   "source": [
    "#code I was trying to run:\n",
    "'''\n",
    "cv = KFold(n_splits=5, random_state=0)\n",
    "\n",
    "l_MAE = []\n",
    "l_alpha = []\n",
    "\n",
    "for a in alphas:\n",
    "    \n",
    "    \n",
    "    sum_MAE = 0\n",
    "    clf = linear_model.Lasso(alpha=a)\n",
    "    for train_index, test_index in cv.split(X):\n",
    "        X_train, X_test = X[train_index], X[test_index]\n",
    "        Y_train, Y_test = Y[train_index], Y[test_index]\n",
    "        clf = clf.fit(X_train, Y_train)\n",
    "        clf_pred = clf.predict(X_test)\n",
    "        sum_MAE = sum_MAE + mean_absolute_error(Y_test, clf_pred)\n",
    "    \n",
    "    avg_MAE = sum_MAE/5\n",
    "    l_MAE.append(avg_MAE)\n",
    "    l_alpha.append(a)\n",
    "    \n",
    "\n",
    "q = pd.DataFrame(\n",
    "    {'MAE': l_MAE, \n",
    "     'alpha': l_alpha\n",
    "    })\n",
    "\n",
    "q.sort_values(by='MAE').head(1)\n",
    "\n",
    "\n",
    "'''"
   ]
  },
  {
   "cell_type": "code",
   "execution_count": 96,
   "metadata": {},
   "outputs": [
    {
     "name": "stdout",
     "output_type": "stream",
     "text": [
      "Lasso: \n",
      "{'alpha': 266.8349615603151}\n",
      "MAE:  4823099636.200391\n"
     ]
    }
   ],
   "source": [
    "lasso_lm = GridSearchCV(Lasso(), {'alpha': alphas}, scoring='neg_mean_squared_error', cv=5)\n",
    "lasso_lm.fit(X_tr, Y_tr)\n",
    "\n",
    "print(\"Lasso: \")\n",
    "print(lasso_lm.best_params_)\n",
    "print(\"MAE: \",-1*lasso_lm.best_score_)"
   ]
  },
  {
   "cell_type": "code",
   "execution_count": 97,
   "metadata": {},
   "outputs": [
    {
     "name": "stdout",
     "output_type": "stream",
     "text": [
      "Ridge: \n",
      "{'alpha': 115.50648500415791}\n",
      "MAE:  4818150947.238036\n"
     ]
    }
   ],
   "source": [
    "ridge_lm = GridSearchCV(Ridge(), {'alpha': alphas}, scoring='neg_mean_squared_error', cv=5)\n",
    "ridge_lm.fit(X_tr, Y_tr)\n",
    "\n",
    "print(\"Ridge: \")\n",
    "print(ridge_lm.best_params_)\n",
    "print(\"MAE: \",-1*ridge_lm.best_score_)"
   ]
  },
  {
   "cell_type": "markdown",
   "metadata": {},
   "source": [
    "## 2"
   ]
  },
  {
   "cell_type": "code",
   "execution_count": null,
   "metadata": {},
   "outputs": [],
   "source": [
    "import matplotlib.pyplot as plt\n",
    "%matplotlib inline\n"
   ]
  },
  {
   "cell_type": "code",
   "execution_count": 113,
   "metadata": {},
   "outputs": [
    {
     "data": {
      "image/png": "[encoded data removed]",
      "text/plain": [
       "<Figure size 432x288 with 1 Axes>"
      ]
     },
     "metadata": {
      "needs_background": "light"
     },
     "output_type": "display_data"
    }
   ],
   "source": [
    "coefficients = []\n",
    "\n",
    "for a in alphas:\n",
    "    ridge = linear_model.Ridge(alpha=a)\n",
    "    ridge.fit(X_tr, Y_tr)\n",
    "    coefficients.append(ridge.coef_)\n",
    "\n",
    "ax = plt.gca()\n",
    "ax.plot(alphas, coefficients)\n",
    "ax.set_xscale('log')\n",
    "plt.title('Ridge Regression Coefficients')\n",
    "plt.xlabel('Alpha Value (log)')\n",
    "plt.show()"
   ]
  },
  {
   "cell_type": "code",
   "execution_count": 114,
   "metadata": {},
   "outputs": [
    {
     "data": {
      "image/png": "[encoded data removed]",
      "text/plain": [
       "<Figure size 432x288 with 1 Axes>"
      ]
     },
     "metadata": {
      "needs_background": "light"
     },
     "output_type": "display_data"
    }
   ],
   "source": [
    "coefficients = []\n",
    "\n",
    "for a in alphas:\n",
    "    lasso = linear_model.Lasso(alpha=a)\n",
    "    lasso.fit(X_tr, Y_tr)\n",
    "    coefficients.append(lasso.coef_)\n",
    "\n",
    "ax = plt.gca()\n",
    "ax.plot(alphas, coefficients)\n",
    "ax.set_xscale('log')\n",
    "plt.title('Lasso Regression Coefficients')\n",
    "plt.xlabel('Alpha Value (log)')\n",
    "plt.show()"
   ]
  },
  {
   "cell_type": "markdown",
   "metadata": {},
   "source": [
    "As the regularization value (alpha value) increases, more predictor variable coefficients are brought closer to zero.\n",
    "\n",
    "The minimization function wants to reduce the error in the regression and the sum of the coefficients (weighted by the regularization value).  Increasing alpha forces the regression to prioritize the features that account for the most variance in the response variable."
   ]
  },
  {
   "cell_type": "markdown",
   "metadata": {},
   "source": [
    "## 3"
   ]
  },
  {
   "cell_type": "code",
   "execution_count": 93,
   "metadata": {},
   "outputs": [
    {
     "name": "stdout",
     "output_type": "stream",
     "text": [
      "Test MAE:  50783.974603927876\n"
     ]
    }
   ],
   "source": [
    "#Linear Regresion\n",
    "lm = linear_model.LinearRegression().fit(X_tr, Y_tr)\n",
    "lm_pred_test = lm.predict(X_te)\n",
    "print(\"Test MAE: \", mean_absolute_error(Y_te, lm_pred_test))"
   ]
  },
  {
   "cell_type": "code",
   "execution_count": 95,
   "metadata": {},
   "outputs": [
    {
     "name": "stdout",
     "output_type": "stream",
     "text": [
      "Test MAE:  50816.66772770702\n"
     ]
    }
   ],
   "source": [
    "#Lasso Regression\n",
    "lm_lasso = linear_model.Lasso(alpha=266.835).fit(X_tr, Y_tr)\n",
    "lm_lasso_pred_test = lm_lasso.predict(X_te)\n",
    "print(\"Test MAE: \", mean_absolute_error(Y_te, lm_lasso_pred_test))"
   ]
  },
  {
   "cell_type": "code",
   "execution_count": 98,
   "metadata": {},
   "outputs": [
    {
     "name": "stdout",
     "output_type": "stream",
     "text": [
      "Test MAE:  50784.915158724296\n"
     ]
    }
   ],
   "source": [
    "#Ridge Regression\n",
    "lm_ridge = linear_model.Ridge(alpha=115.506).fit(X_tr, Y_tr)\n",
    "lm_ridge_pred_test = lm_ridge.predict(X_te)\n",
    "print(\"Test MAE: \", mean_absolute_error(Y_te, lm_ridge_pred_test))"
   ]
  },
  {
   "cell_type": "markdown",
   "metadata": {},
   "source": [
    "## 4"
   ]
  },
  {
   "cell_type": "code",
   "execution_count": 121,
   "metadata": {},
   "outputs": [],
   "source": [
    "model_cv = linear_model.LassoCV(alphas=None, cv=10, max_iter=10000).fit(X_tr, Y_tr)\n",
    "\n"
   ]
  },
  {
   "cell_type": "code",
   "execution_count": 122,
   "metadata": {},
   "outputs": [
    {
     "name": "stdout",
     "output_type": "stream",
     "text": [
      "Alpha:  33667.33125338168\n"
     ]
    }
   ],
   "source": [
    "print(\"Alpha: \", model_cv.alpha_)"
   ]
  },
  {
   "cell_type": "code",
   "execution_count": 124,
   "metadata": {},
   "outputs": [
    {
     "name": "stdout",
     "output_type": "stream",
     "text": [
      "Train MAE:  59974.967255430165\n",
      "Test MAE:  59638.11860469278\n"
     ]
    }
   ],
   "source": [
    "lm_lasso = linear_model.Lasso(alpha=33667.33).fit(X_tr, Y_tr)\n",
    "\n",
    "lm_lasso_pred_tr = lm_lasso.predict(X_tr)\n",
    "print(\"Train MAE: \", mean_absolute_error(Y_tr, lm_lasso_pred_tr))\n",
    "\n",
    "lm_lasso_pred_test = lm_lasso.predict(X_te)\n",
    "print(\"Test MAE: \", mean_absolute_error(Y_te, lm_lasso_pred_test))"
   ]
  },
  {
   "cell_type": "code",
   "execution_count": 125,
   "metadata": {},
   "outputs": [
    {
     "name": "stdout",
     "output_type": "stream",
     "text": [
      "[-0.00000000e+00 -0.00000000e+00  1.51789396e+03 -1.29210071e+00\n",
      " -5.62929393e+00 -4.78896868e+01  1.74332835e+02  3.39063234e+04\n",
      " -0.00000000e+00  0.00000000e+00  0.00000000e+00]\n"
     ]
    }
   ],
   "source": [
    "print(lm_lasso.coef_)"
   ]
  },
  {
   "cell_type": "markdown",
   "metadata": {},
   "source": [
    "## 5"
   ]
  },
  {
   "cell_type": "markdown",
   "metadata": {},
   "source": [
    "Because Lasso and Ridge Regression use a penalizitation function on the coefficients of the model, if the features aren't appropriately scaled, the regularization will affect some features disproportionately.\n",
    "\n",
    "For instance, if a predictor variable that has really small values has a coefficient that is really large, the regularization will affect that predictor variable much more than a variable with a small coefficient (due to its values being relatively large).  To understand which predictors are most important in a regression, it is important that the regularization behaves consistently among all predictor variables.\n"
   ]
  },
  {
   "cell_type": "markdown",
   "metadata": {},
   "source": [
    "# Question 5 (5pts)\n",
    "\n",
    "How do you think the performance of your model varies in the train and test set as you increase(decrease) the number of examples in the training dataset? Explain why does it change in a particular way."
   ]
  },
  {
   "cell_type": "markdown",
   "metadata": {},
   "source": [
    "### Answer"
   ]
  },
  {
   "cell_type": "markdown",
   "metadata": {},
   "source": [
    "Assume that the new records in the training set are as representative of the population as the starting sample. \n",
    "\n",
    "As we increase the number of examples in the training set, the performance of the model on the training set would likely decrease.  If the model is overfit, adding more records will decrease the performance of the model.  If the model is not overfit, then I would expect no change in the performance of the model.\n",
    "\n",
    "The performance of the model on the test set would either increase or stay the same.  If the model being used cannot capture the behavior of the data, adding more records will not improve its performance.  However, if the model is appropriate for the data, adding more data can narrow confidence intervals and standard error."
   ]
  }
 ],
 "metadata": {
  "anaconda-cloud": {},
  "kernelspec": {
   "display_name": "Python 3",
   "language": "python",
   "name": "python3"
  },
  "language_info": {
   "codemirror_mode": {
    "name": "ipython",
    "version": 3
   },
   "file_extension": ".py",
   "mimetype": "text/x-python",
   "name": "python",
   "nbconvert_exporter": "python",
   "pygments_lexer": "ipython3",
   "version": "3.7.5"
  }
 },
 "nbformat": 4,
 "nbformat_minor": 1
}
